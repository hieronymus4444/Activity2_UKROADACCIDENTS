{
 "cells": [
  {
   "cell_type": "code",
   "execution_count": 1,
   "id": "56f065dc-1af7-48ae-a06d-4b891807a946",
   "metadata": {},
   "outputs": [],
   "source": [
    "import numpy as np\n",
    "import pandas as pd\n",
    "import warnings\n",
    "warnings.filterwarnings('ignore')"
   ]
  },
  {
   "cell_type": "code",
   "execution_count": 3,
   "id": "7c9b489f-24f6-4a26-af7c-ec3ef9743cb1",
   "metadata": {},
   "outputs": [],
   "source": [
    "UkAcc = pd.read_csv('uk_road_accident.csv')"
   ]
  },
  {
   "cell_type": "code",
   "execution_count": 4,
   "id": "11d21ea6-acf0-49d2-a991-4cd0fe5bec90",
   "metadata": {},
   "outputs": [
    {
     "data": {
      "text/html": [
       "<div>\n",
       "<style scoped>\n",
       "    .dataframe tbody tr th:only-of-type {\n",
       "        vertical-align: middle;\n",
       "    }\n",
       "\n",
       "    .dataframe tbody tr th {\n",
       "        vertical-align: top;\n",
       "    }\n",
       "\n",
       "    .dataframe thead th {\n",
       "        text-align: right;\n",
       "    }\n",
       "</style>\n",
       "<table border=\"1\" class=\"dataframe\">\n",
       "  <thead>\n",
       "    <tr style=\"text-align: right;\">\n",
       "      <th></th>\n",
       "      <th>Index</th>\n",
       "      <th>Accident_Severity</th>\n",
       "      <th>Accident Date</th>\n",
       "      <th>Latitude</th>\n",
       "      <th>Light_Conditions</th>\n",
       "      <th>District Area</th>\n",
       "      <th>Longitude</th>\n",
       "      <th>Number_of_Casualties</th>\n",
       "      <th>Number_of_Vehicles</th>\n",
       "      <th>Road_Surface_Conditions</th>\n",
       "      <th>Road_Type</th>\n",
       "      <th>Urban_or_Rural_Area</th>\n",
       "      <th>Weather_Conditions</th>\n",
       "      <th>Vehicle_Type</th>\n",
       "    </tr>\n",
       "  </thead>\n",
       "  <tbody>\n",
       "    <tr>\n",
       "      <th>0</th>\n",
       "      <td>200701BS64157</td>\n",
       "      <td>Serious</td>\n",
       "      <td>5/6/2019</td>\n",
       "      <td>51.506187</td>\n",
       "      <td>Darkness - lights lit</td>\n",
       "      <td>Kensington and Chelsea</td>\n",
       "      <td>-0.209082</td>\n",
       "      <td>1</td>\n",
       "      <td>2</td>\n",
       "      <td>Dry</td>\n",
       "      <td>Single carriageway</td>\n",
       "      <td>Urban</td>\n",
       "      <td>Fine no high winds</td>\n",
       "      <td>Car</td>\n",
       "    </tr>\n",
       "    <tr>\n",
       "      <th>1</th>\n",
       "      <td>200701BS65737</td>\n",
       "      <td>Serious</td>\n",
       "      <td>2/7/2019</td>\n",
       "      <td>51.495029</td>\n",
       "      <td>Daylight</td>\n",
       "      <td>Kensington and Chelsea</td>\n",
       "      <td>-0.173647</td>\n",
       "      <td>1</td>\n",
       "      <td>2</td>\n",
       "      <td>Wet or damp</td>\n",
       "      <td>Single carriageway</td>\n",
       "      <td>Urban</td>\n",
       "      <td>Raining no high winds</td>\n",
       "      <td>Car</td>\n",
       "    </tr>\n",
       "    <tr>\n",
       "      <th>2</th>\n",
       "      <td>200701BS66127</td>\n",
       "      <td>Serious</td>\n",
       "      <td>26-08-2019</td>\n",
       "      <td>51.517715</td>\n",
       "      <td>Darkness - lighting unknown</td>\n",
       "      <td>Kensington and Chelsea</td>\n",
       "      <td>-0.210215</td>\n",
       "      <td>1</td>\n",
       "      <td>3</td>\n",
       "      <td>Dry</td>\n",
       "      <td>NaN</td>\n",
       "      <td>Urban</td>\n",
       "      <td>NaN</td>\n",
       "      <td>Taxi/Private hire car</td>\n",
       "    </tr>\n",
       "    <tr>\n",
       "      <th>3</th>\n",
       "      <td>200701BS66128</td>\n",
       "      <td>Serious</td>\n",
       "      <td>16-08-2019</td>\n",
       "      <td>51.495478</td>\n",
       "      <td>Daylight</td>\n",
       "      <td>Kensington and Chelsea</td>\n",
       "      <td>-0.202731</td>\n",
       "      <td>1</td>\n",
       "      <td>4</td>\n",
       "      <td>Dry</td>\n",
       "      <td>Single carriageway</td>\n",
       "      <td>Urban</td>\n",
       "      <td>Fine no high winds</td>\n",
       "      <td>Bus or coach (17 or more pass seats)</td>\n",
       "    </tr>\n",
       "    <tr>\n",
       "      <th>4</th>\n",
       "      <td>200701BS66837</td>\n",
       "      <td>Slight</td>\n",
       "      <td>3/9/2019</td>\n",
       "      <td>51.488576</td>\n",
       "      <td>Darkness - lights lit</td>\n",
       "      <td>Kensington and Chelsea</td>\n",
       "      <td>-0.192487</td>\n",
       "      <td>1</td>\n",
       "      <td>2</td>\n",
       "      <td>Dry</td>\n",
       "      <td>NaN</td>\n",
       "      <td>Urban</td>\n",
       "      <td>NaN</td>\n",
       "      <td>Other vehicle</td>\n",
       "    </tr>\n",
       "    <tr>\n",
       "      <th>...</th>\n",
       "      <td>...</td>\n",
       "      <td>...</td>\n",
       "      <td>...</td>\n",
       "      <td>...</td>\n",
       "      <td>...</td>\n",
       "      <td>...</td>\n",
       "      <td>...</td>\n",
       "      <td>...</td>\n",
       "      <td>...</td>\n",
       "      <td>...</td>\n",
       "      <td>...</td>\n",
       "      <td>...</td>\n",
       "      <td>...</td>\n",
       "      <td>...</td>\n",
       "    </tr>\n",
       "    <tr>\n",
       "      <th>660674</th>\n",
       "      <td>201091NM01760</td>\n",
       "      <td>Slight</td>\n",
       "      <td>18-02-2022</td>\n",
       "      <td>57.374005</td>\n",
       "      <td>Daylight</td>\n",
       "      <td>Highland</td>\n",
       "      <td>-3.467828</td>\n",
       "      <td>2</td>\n",
       "      <td>1</td>\n",
       "      <td>Dry</td>\n",
       "      <td>Single carriageway</td>\n",
       "      <td>Rural</td>\n",
       "      <td>Fine no high winds</td>\n",
       "      <td>Car</td>\n",
       "    </tr>\n",
       "    <tr>\n",
       "      <th>660675</th>\n",
       "      <td>201091NM01881</td>\n",
       "      <td>Slight</td>\n",
       "      <td>21-02-2022</td>\n",
       "      <td>57.232273</td>\n",
       "      <td>Darkness - no lighting</td>\n",
       "      <td>Highland</td>\n",
       "      <td>-3.809281</td>\n",
       "      <td>1</td>\n",
       "      <td>1</td>\n",
       "      <td>Frost or ice</td>\n",
       "      <td>Single carriageway</td>\n",
       "      <td>Rural</td>\n",
       "      <td>Fine no high winds</td>\n",
       "      <td>Car</td>\n",
       "    </tr>\n",
       "    <tr>\n",
       "      <th>660676</th>\n",
       "      <td>201091NM01935</td>\n",
       "      <td>Slight</td>\n",
       "      <td>23-02-2022</td>\n",
       "      <td>57.585044</td>\n",
       "      <td>Daylight</td>\n",
       "      <td>Highland</td>\n",
       "      <td>-3.862727</td>\n",
       "      <td>1</td>\n",
       "      <td>3</td>\n",
       "      <td>Frost or ice</td>\n",
       "      <td>Single carriageway</td>\n",
       "      <td>Rural</td>\n",
       "      <td>Fine no high winds</td>\n",
       "      <td>Car</td>\n",
       "    </tr>\n",
       "    <tr>\n",
       "      <th>660677</th>\n",
       "      <td>201091NM01964</td>\n",
       "      <td>Serious</td>\n",
       "      <td>23-02-2022</td>\n",
       "      <td>57.214898</td>\n",
       "      <td>Darkness - no lighting</td>\n",
       "      <td>Highland</td>\n",
       "      <td>-3.823997</td>\n",
       "      <td>1</td>\n",
       "      <td>2</td>\n",
       "      <td>Wet or damp</td>\n",
       "      <td>Single carriageway</td>\n",
       "      <td>Rural</td>\n",
       "      <td>Fine no high winds</td>\n",
       "      <td>Motorcycle over 500cc</td>\n",
       "    </tr>\n",
       "    <tr>\n",
       "      <th>660678</th>\n",
       "      <td>201091NM02142</td>\n",
       "      <td>Serious</td>\n",
       "      <td>28-02-2022</td>\n",
       "      <td>57.575210</td>\n",
       "      <td>Daylight</td>\n",
       "      <td>Highland</td>\n",
       "      <td>-3.895673</td>\n",
       "      <td>1</td>\n",
       "      <td>1</td>\n",
       "      <td>Wet or damp</td>\n",
       "      <td>Dual carriageway</td>\n",
       "      <td>Rural</td>\n",
       "      <td>Snowing no high winds</td>\n",
       "      <td>Car</td>\n",
       "    </tr>\n",
       "  </tbody>\n",
       "</table>\n",
       "<p>660679 rows × 14 columns</p>\n",
       "</div>"
      ],
      "text/plain": [
       "                Index Accident_Severity Accident Date   Latitude  \\\n",
       "0       200701BS64157           Serious      5/6/2019  51.506187   \n",
       "1       200701BS65737           Serious      2/7/2019  51.495029   \n",
       "2       200701BS66127           Serious    26-08-2019  51.517715   \n",
       "3       200701BS66128           Serious    16-08-2019  51.495478   \n",
       "4       200701BS66837            Slight      3/9/2019  51.488576   \n",
       "...               ...               ...           ...        ...   \n",
       "660674  201091NM01760            Slight    18-02-2022  57.374005   \n",
       "660675  201091NM01881            Slight    21-02-2022  57.232273   \n",
       "660676  201091NM01935            Slight    23-02-2022  57.585044   \n",
       "660677  201091NM01964           Serious    23-02-2022  57.214898   \n",
       "660678  201091NM02142           Serious    28-02-2022  57.575210   \n",
       "\n",
       "                   Light_Conditions           District Area  Longitude  \\\n",
       "0             Darkness - lights lit  Kensington and Chelsea  -0.209082   \n",
       "1                          Daylight  Kensington and Chelsea  -0.173647   \n",
       "2       Darkness - lighting unknown  Kensington and Chelsea  -0.210215   \n",
       "3                          Daylight  Kensington and Chelsea  -0.202731   \n",
       "4             Darkness - lights lit  Kensington and Chelsea  -0.192487   \n",
       "...                             ...                     ...        ...   \n",
       "660674                     Daylight                Highland  -3.467828   \n",
       "660675       Darkness - no lighting                Highland  -3.809281   \n",
       "660676                     Daylight                Highland  -3.862727   \n",
       "660677       Darkness - no lighting                Highland  -3.823997   \n",
       "660678                     Daylight                Highland  -3.895673   \n",
       "\n",
       "        Number_of_Casualties  Number_of_Vehicles Road_Surface_Conditions  \\\n",
       "0                          1                   2                     Dry   \n",
       "1                          1                   2             Wet or damp   \n",
       "2                          1                   3                     Dry   \n",
       "3                          1                   4                     Dry   \n",
       "4                          1                   2                     Dry   \n",
       "...                      ...                 ...                     ...   \n",
       "660674                     2                   1                     Dry   \n",
       "660675                     1                   1            Frost or ice   \n",
       "660676                     1                   3            Frost or ice   \n",
       "660677                     1                   2             Wet or damp   \n",
       "660678                     1                   1             Wet or damp   \n",
       "\n",
       "                 Road_Type Urban_or_Rural_Area     Weather_Conditions  \\\n",
       "0       Single carriageway               Urban     Fine no high winds   \n",
       "1       Single carriageway               Urban  Raining no high winds   \n",
       "2                      NaN               Urban                    NaN   \n",
       "3       Single carriageway               Urban     Fine no high winds   \n",
       "4                      NaN               Urban                    NaN   \n",
       "...                    ...                 ...                    ...   \n",
       "660674  Single carriageway               Rural     Fine no high winds   \n",
       "660675  Single carriageway               Rural     Fine no high winds   \n",
       "660676  Single carriageway               Rural     Fine no high winds   \n",
       "660677  Single carriageway               Rural     Fine no high winds   \n",
       "660678    Dual carriageway               Rural  Snowing no high winds   \n",
       "\n",
       "                                Vehicle_Type  \n",
       "0                                        Car  \n",
       "1                                        Car  \n",
       "2                      Taxi/Private hire car  \n",
       "3       Bus or coach (17 or more pass seats)  \n",
       "4                              Other vehicle  \n",
       "...                                      ...  \n",
       "660674                                   Car  \n",
       "660675                                   Car  \n",
       "660676                                   Car  \n",
       "660677                 Motorcycle over 500cc  \n",
       "660678                                   Car  \n",
       "\n",
       "[660679 rows x 14 columns]"
      ]
     },
     "execution_count": 4,
     "metadata": {},
     "output_type": "execute_result"
    }
   ],
   "source": [
    "UkAcc"
   ]
  },
  {
   "cell_type": "code",
   "execution_count": 5,
   "id": "65dcd4e9-3643-4a9c-a81c-aba1fb97806c",
   "metadata": {},
   "outputs": [
    {
     "data": {
      "text/plain": [
       "Index                          0\n",
       "Accident_Severity              0\n",
       "Accident Date                  0\n",
       "Latitude                      25\n",
       "Light_Conditions               0\n",
       "District Area                  0\n",
       "Longitude                     26\n",
       "Number_of_Casualties           0\n",
       "Number_of_Vehicles             0\n",
       "Road_Surface_Conditions      726\n",
       "Road_Type                   4520\n",
       "Urban_or_Rural_Area           15\n",
       "Weather_Conditions         14128\n",
       "Vehicle_Type                   0\n",
       "dtype: int64"
      ]
     },
     "execution_count": 5,
     "metadata": {},
     "output_type": "execute_result"
    }
   ],
   "source": [
    "UkAcc.isnull().sum()"
   ]
  },
  {
   "cell_type": "code",
   "execution_count": 6,
   "id": "67fd9380-c980-4c58-8088-8ff3c789f78c",
   "metadata": {},
   "outputs": [],
   "source": [
    "UkAcc['Latitude'] = UkAcc['Latitude'].fillna(UkAcc['Latitude'].mean())\n",
    "UkAcc['Longitude'] = UkAcc['Longitude'].fillna(UkAcc['Longitude'].mean())\n",
    "UkAcc['Road_Surface_Conditions'] = UkAcc['Road_Surface_Conditions'].fillna(UkAcc['Road_Surface_Conditions'].mode()[0])\n",
    "UkAcc['Road_Type'] = UkAcc['Road_Type'].fillna(UkAcc['Road_Type'].mode()[0])\n",
    "UkAcc['Urban_or_Rural_Area'] = UkAcc['Urban_or_Rural_Area'].fillna(UkAcc['Urban_or_Rural_Area'].mode()[0])\n",
    "UkAcc['Weather_Conditions'] = UkAcc['Weather_Conditions'].fillna(UkAcc['Weather_Conditions'].mode()[0])"
   ]
  },
  {
   "cell_type": "code",
   "execution_count": 7,
   "id": "f2e4d438-ef44-41a9-ae57-7fb16744059c",
   "metadata": {},
   "outputs": [
    {
     "data": {
      "text/plain": [
       "Index                      0\n",
       "Accident_Severity          0\n",
       "Accident Date              0\n",
       "Latitude                   0\n",
       "Light_Conditions           0\n",
       "District Area              0\n",
       "Longitude                  0\n",
       "Number_of_Casualties       0\n",
       "Number_of_Vehicles         0\n",
       "Road_Surface_Conditions    0\n",
       "Road_Type                  0\n",
       "Urban_or_Rural_Area        0\n",
       "Weather_Conditions         0\n",
       "Vehicle_Type               0\n",
       "dtype: int64"
      ]
     },
     "execution_count": 7,
     "metadata": {},
     "output_type": "execute_result"
    }
   ],
   "source": [
    "UkAcc.isnull().sum()"
   ]
  },
  {
   "cell_type": "markdown",
   "id": "43db5525-8a8c-4c75-8912-cda1c5fb7b5a",
   "metadata": {},
   "source": [
    "<h1>Clearing any Inconsistencies with the Data</h1>"
   ]
  },
  {
   "cell_type": "code",
   "execution_count": 8,
   "id": "58fe7622-df78-4e65-9df2-3c04ce85f1dc",
   "metadata": {},
   "outputs": [],
   "source": [
    "UkAcc['Accident Date'] = UkAcc['Accident Date'].str.strip()\n",
    "UkAcc['Accident Date'] = UkAcc['Accident Date'].astype('str')\n",
    "UkAcc['Accident Date'] = UkAcc['Accident Date'].str.replace('/','-')\n",
    "UkAcc['Accident Date'] = pd.to_datetime(UkAcc['Accident Date'], dayfirst = True, errors = 'coerce')"
   ]
  },
  {
   "cell_type": "code",
   "execution_count": 9,
   "id": "3e7d1b32-9078-4eff-96c1-102827bd78a5",
   "metadata": {},
   "outputs": [
    {
     "data": {
      "text/plain": [
       "Index                              object\n",
       "Accident_Severity                  object\n",
       "Accident Date              datetime64[ns]\n",
       "Latitude                          float64\n",
       "Light_Conditions                   object\n",
       "District Area                      object\n",
       "Longitude                         float64\n",
       "Number_of_Casualties                int64\n",
       "Number_of_Vehicles                  int64\n",
       "Road_Surface_Conditions            object\n",
       "Road_Type                          object\n",
       "Urban_or_Rural_Area                object\n",
       "Weather_Conditions                 object\n",
       "Vehicle_Type                       object\n",
       "dtype: object"
      ]
     },
     "execution_count": 9,
     "metadata": {},
     "output_type": "execute_result"
    }
   ],
   "source": [
    "UkAcc.dtypes"
   ]
  },
  {
   "cell_type": "code",
   "execution_count": 10,
   "id": "116c3531-44d5-446f-b092-fdaafed0e376",
   "metadata": {},
   "outputs": [
    {
     "data": {
      "text/plain": [
       "<bound method DataFrame.info of                 Index Accident_Severity Accident Date   Latitude  \\\n",
       "0       200701BS64157           Serious    2019-06-05  51.506187   \n",
       "1       200701BS65737           Serious    2019-07-02  51.495029   \n",
       "2       200701BS66127           Serious    2019-08-26  51.517715   \n",
       "3       200701BS66128           Serious    2019-08-16  51.495478   \n",
       "4       200701BS66837            Slight    2019-09-03  51.488576   \n",
       "...               ...               ...           ...        ...   \n",
       "660674  201091NM01760            Slight    2022-02-18  57.374005   \n",
       "660675  201091NM01881            Slight    2022-02-21  57.232273   \n",
       "660676  201091NM01935            Slight    2022-02-23  57.585044   \n",
       "660677  201091NM01964           Serious    2022-02-23  57.214898   \n",
       "660678  201091NM02142           Serious    2022-02-28  57.575210   \n",
       "\n",
       "                   Light_Conditions           District Area  Longitude  \\\n",
       "0             Darkness - lights lit  Kensington and Chelsea  -0.209082   \n",
       "1                          Daylight  Kensington and Chelsea  -0.173647   \n",
       "2       Darkness - lighting unknown  Kensington and Chelsea  -0.210215   \n",
       "3                          Daylight  Kensington and Chelsea  -0.202731   \n",
       "4             Darkness - lights lit  Kensington and Chelsea  -0.192487   \n",
       "...                             ...                     ...        ...   \n",
       "660674                     Daylight                Highland  -3.467828   \n",
       "660675       Darkness - no lighting                Highland  -3.809281   \n",
       "660676                     Daylight                Highland  -3.862727   \n",
       "660677       Darkness - no lighting                Highland  -3.823997   \n",
       "660678                     Daylight                Highland  -3.895673   \n",
       "\n",
       "        Number_of_Casualties  Number_of_Vehicles Road_Surface_Conditions  \\\n",
       "0                          1                   2                     Dry   \n",
       "1                          1                   2             Wet or damp   \n",
       "2                          1                   3                     Dry   \n",
       "3                          1                   4                     Dry   \n",
       "4                          1                   2                     Dry   \n",
       "...                      ...                 ...                     ...   \n",
       "660674                     2                   1                     Dry   \n",
       "660675                     1                   1            Frost or ice   \n",
       "660676                     1                   3            Frost or ice   \n",
       "660677                     1                   2             Wet or damp   \n",
       "660678                     1                   1             Wet or damp   \n",
       "\n",
       "                 Road_Type Urban_or_Rural_Area     Weather_Conditions  \\\n",
       "0       Single carriageway               Urban     Fine no high winds   \n",
       "1       Single carriageway               Urban  Raining no high winds   \n",
       "2       Single carriageway               Urban     Fine no high winds   \n",
       "3       Single carriageway               Urban     Fine no high winds   \n",
       "4       Single carriageway               Urban     Fine no high winds   \n",
       "...                    ...                 ...                    ...   \n",
       "660674  Single carriageway               Rural     Fine no high winds   \n",
       "660675  Single carriageway               Rural     Fine no high winds   \n",
       "660676  Single carriageway               Rural     Fine no high winds   \n",
       "660677  Single carriageway               Rural     Fine no high winds   \n",
       "660678    Dual carriageway               Rural  Snowing no high winds   \n",
       "\n",
       "                                Vehicle_Type  \n",
       "0                                        Car  \n",
       "1                                        Car  \n",
       "2                      Taxi/Private hire car  \n",
       "3       Bus or coach (17 or more pass seats)  \n",
       "4                              Other vehicle  \n",
       "...                                      ...  \n",
       "660674                                   Car  \n",
       "660675                                   Car  \n",
       "660676                                   Car  \n",
       "660677                 Motorcycle over 500cc  \n",
       "660678                                   Car  \n",
       "\n",
       "[660679 rows x 14 columns]>"
      ]
     },
     "execution_count": 10,
     "metadata": {},
     "output_type": "execute_result"
    }
   ],
   "source": [
    "UkAcc.info"
   ]
  },
  {
   "cell_type": "code",
   "execution_count": 11,
   "id": "17834f9a-291e-459c-bb04-f229a00bf8e8",
   "metadata": {},
   "outputs": [],
   "source": [
    "UkAcc['Accident_Severity'] = UkAcc['Accident_Severity'].astype('category')"
   ]
  },
  {
   "cell_type": "code",
   "execution_count": 12,
   "id": "cc82c974-e0f6-4d1b-8303-7f2606032826",
   "metadata": {},
   "outputs": [
    {
     "data": {
      "text/plain": [
       "Index                              object\n",
       "Accident_Severity                category\n",
       "Accident Date              datetime64[ns]\n",
       "Latitude                          float64\n",
       "Light_Conditions                   object\n",
       "District Area                      object\n",
       "Longitude                         float64\n",
       "Number_of_Casualties                int64\n",
       "Number_of_Vehicles                  int64\n",
       "Road_Surface_Conditions            object\n",
       "Road_Type                          object\n",
       "Urban_or_Rural_Area                object\n",
       "Weather_Conditions                 object\n",
       "Vehicle_Type                       object\n",
       "dtype: object"
      ]
     },
     "execution_count": 12,
     "metadata": {},
     "output_type": "execute_result"
    }
   ],
   "source": [
    "UkAcc.dtypes"
   ]
  },
  {
   "cell_type": "markdown",
   "id": "dd7b1fc8-fc09-4569-b3c1-adc067e6a0d3",
   "metadata": {},
   "source": [
    "<h1>Q1: What is the typical count of vehicles involved based on accident severity</h1>"
   ]
  },
  {
   "cell_type": "code",
   "execution_count": 16,
   "id": "f34835da-ffa5-451e-ac12-fc439b3721a2",
   "metadata": {},
   "outputs": [
    {
     "data": {
      "text/plain": [
       "Accident_Severity\n",
       "Fatal      1.786976\n",
       "Serious    1.678327\n",
       "Slight     1.855864\n",
       "Name: Number_of_Vehicles, dtype: float64"
      ]
     },
     "execution_count": 16,
     "metadata": {},
     "output_type": "execute_result"
    }
   ],
   "source": [
    "UkAcc.groupby('Accident_Severity')['Number_of_Vehicles'].mean()"
   ]
  },
  {
   "cell_type": "markdown",
   "id": "57a792da-5628-44e4-8af3-770a0b05573d",
   "metadata": {},
   "source": [
    "<h1>Insights: Accidents that are more serious generally involve a greater number of vehicles, indicating that collisions with multiple vehicles are more hazardous</h1>\n",
    "<hr>"
   ]
  },
  {
   "cell_type": "markdown",
   "id": "cca242d9-d3e5-4fdc-ac65-fffeb1f0eb04",
   "metadata": {},
   "source": [
    "<h1>Q2: Which Area does accidents occur? is it on urban or rural areas?</h1>"
   ]
  },
  {
   "cell_type": "code",
   "execution_count": 19,
   "id": "53528cac-3bd2-4cb1-b0b1-e550751da594",
   "metadata": {},
   "outputs": [
    {
     "data": {
      "text/plain": [
       "Urban_or_Rural_Area\n",
       "Urban          421678\n",
       "Rural          238990\n",
       "Unallocated        11\n",
       "Name: count, dtype: int64"
      ]
     },
     "execution_count": 19,
     "metadata": {},
     "output_type": "execute_result"
    }
   ],
   "source": [
    "UkAcc['Urban_or_Rural_Area'].value_counts()"
   ]
  },
  {
   "cell_type": "markdown",
   "id": "3b422859-db2a-48a6-a13e-021e31baf7ec",
   "metadata": {},
   "source": [
    "<h1>Insights: The data shows that Urban Areas have a higher number of accidents</h1>\n",
    "<hr>"
   ]
  },
  {
   "cell_type": "markdown",
   "id": "6686e058-687d-410e-ae46-e3331edcf19e",
   "metadata": {},
   "source": [
    "<h1>Q3: What is the most prevalent level of accident severity</h1>"
   ]
  },
  {
   "cell_type": "code",
   "execution_count": 20,
   "id": "5850a27b-3a3e-4235-82b6-5f07562f5713",
   "metadata": {},
   "outputs": [
    {
     "data": {
      "text/plain": [
       "Accident_Severity\n",
       "Slight     563801\n",
       "Serious     88217\n",
       "Fatal        8661\n",
       "Name: count, dtype: int64"
      ]
     },
     "execution_count": 20,
     "metadata": {},
     "output_type": "execute_result"
    }
   ],
   "source": [
    "UkAcc['Accident_Severity'].value_counts()"
   ]
  },
  {
   "cell_type": "markdown",
   "id": "9a89ebfb-d5a0-4b3d-9527-5af7324d5c60",
   "metadata": {},
   "source": [
    "<h1>Insights: Minor collisions are the most frequent kind, showing that the majority of roadway incidents lead to slight injuries instead of severe damage</h1>\n",
    "<hr>"
   ]
  },
  {
   "cell_type": "markdown",
   "id": "e9b9ce7b-e76a-436e-a929-d27bb93985ef",
   "metadata": {},
   "source": [
    "<h1>Q4: Which lighting conditions pose the greatest risk</h1>"
   ]
  },
  {
   "cell_type": "code",
   "execution_count": 22,
   "id": "f955ad98-49a0-4584-a265-ee80d76d2144",
   "metadata": {},
   "outputs": [
    {
     "data": {
      "text/plain": [
       "Light_Conditions             Accident_Severity\n",
       "Darkness - lighting unknown  Slight               86.705737\n",
       "                             Serious              12.245527\n",
       "                             Fatal                 1.048735\n",
       "Darkness - lights lit        Slight               83.770828\n",
       "                             Serious              14.791047\n",
       "                             Fatal                 1.438126\n",
       "Darkness - lights unlit      Slight               84.073928\n",
       "                             Serious              14.156508\n",
       "                             Fatal                 1.769564\n",
       "Darkness - no lighting       Slight               76.531239\n",
       "                             Serious              19.162860\n",
       "                             Fatal                 4.305901\n",
       "Daylight                     Slight               86.422414\n",
       "                             Serious              12.530729\n",
       "                             Fatal                 1.046857\n",
       "Name: proportion, dtype: float64"
      ]
     },
     "execution_count": 22,
     "metadata": {},
     "output_type": "execute_result"
    }
   ],
   "source": [
    "UkAcc.groupby('Light_Conditions')['Accident_Severity'].value_counts(normalize=True)* 100"
   ]
  },
  {
   "cell_type": "markdown",
   "id": "b69296b3-831b-4ddc-969a-621cdb5803e0",
   "metadata": {},
   "source": [
    "<h1>Insights: The most hazardous lighting situation is \"Darkness - no lighting,\" which accounts for the greatest percentage of fatal accidents compared to other lighting conditions</h1>\n",
    "<hr>"
   ]
  },
  {
   "cell_type": "markdown",
   "id": "55bc20ca-b8e2-4cae-afd6-81f859ce1a94",
   "metadata": {},
   "source": [
    "<h1>Q5: Which types of roads experience the most serious accidents</h1>"
   ]
  },
  {
   "cell_type": "code",
   "execution_count": 24,
   "id": "b7f1ac48-3985-44ff-9134-5a23a3fc0445",
   "metadata": {},
   "outputs": [
    {
     "data": {
      "text/plain": [
       "Road_Type           Accident_Severity\n",
       "Dual carriageway    Slight               86.360436\n",
       "                    Serious              11.814049\n",
       "                    Fatal                 1.825515\n",
       "One way street      Slight               87.093443\n",
       "                    Serious              12.205915\n",
       "                    Fatal                 0.700642\n",
       "Roundabout          Slight               91.346154\n",
       "                    Serious               8.331060\n",
       "                    Fatal                 0.322786\n",
       "Single carriageway  Slight               84.476395\n",
       "                    Serious              14.202789\n",
       "                    Fatal                 1.320815\n",
       "Slip road           Slight               90.626331\n",
       "                    Serious               8.677745\n",
       "                    Fatal                 0.695924\n",
       "Name: proportion, dtype: float64"
      ]
     },
     "execution_count": 24,
     "metadata": {},
     "output_type": "execute_result"
    }
   ],
   "source": [
    "UkAcc.groupby('Road_Type')['Accident_Severity'].value_counts(normalize=True)* 100"
   ]
  },
  {
   "cell_type": "markdown",
   "id": "0dc6b61d-efb4-4270-8753-cff8777603f1",
   "metadata": {},
   "source": [
    "<h1>Insights: Single carriageways exhibit the highest proportion of severe accidents among various road categories, suggesting that these roads are comparatively more hazardous regarding accidents</h1>\n",
    "<hr>"
   ]
  },
  {
   "cell_type": "markdown",
   "id": "710ea440-1cef-4921-92ec-4b7b49086447",
   "metadata": {},
   "source": [
    "<h1>Q6: What is the highest number of fatalities documented in a lone incident</h1>"
   ]
  },
  {
   "cell_type": "code",
   "execution_count": 26,
   "id": "0d2ab557-b11f-4137-bcda-90c6efa6790d",
   "metadata": {},
   "outputs": [
    {
     "data": {
      "text/plain": [
       "np.int64(68)"
      ]
     },
     "execution_count": 26,
     "metadata": {},
     "output_type": "execute_result"
    }
   ],
   "source": [
    "UkAcc['Number_of_Casualties'].max()"
   ]
  },
  {
   "cell_type": "markdown",
   "id": "b4d95e04-722f-47e6-bf6f-46b04745a594",
   "metadata": {},
   "source": [
    "<h1>Insights: The most fatal incident noted resulted in 68 fatalities, highlighting the significant effect a single event can create</h1>\n",
    "<hr>"
   ]
  },
  {
   "cell_type": "markdown",
   "id": "2fc3e161-b372-4e00-ae50-93caeaf05370",
   "metadata": {},
   "source": [
    "<h1>Q7: Which types of vehicles are most frequently involved in accidents</h1>"
   ]
  },
  {
   "cell_type": "code",
   "execution_count": 27,
   "id": "86f1892a-fef2-4d8e-a02b-3c3c1ade0892",
   "metadata": {},
   "outputs": [
    {
     "data": {
      "text/plain": [
       "Vehicle_Type\n",
       "Car                                      497992\n",
       "Van / Goods 3.5 tonnes mgw or under       34160\n",
       "Bus or coach (17 or more pass seats)      25878\n",
       "Motorcycle over 500cc                     25657\n",
       "Goods 7.5 tonnes mgw and over             17307\n",
       "Motorcycle 125cc and under                15269\n",
       "Taxi/Private hire car                     13294\n",
       "Motorcycle over 125cc and up to 500cc      7656\n",
       "Motorcycle 50cc and under                  7603\n",
       "Goods over 3.5t. and under 7.5t            6096\n",
       "Other vehicle                              5637\n",
       "Minibus (8 - 16 passenger seats)           1976\n",
       "Agricultural vehicle                       1947\n",
       "Pedal cycle                                 197\n",
       "Data missing or out of range                  6\n",
       "Ridden horse                                  4\n",
       "Name: count, dtype: int64"
      ]
     },
     "execution_count": 27,
     "metadata": {},
     "output_type": "execute_result"
    }
   ],
   "source": [
    "UkAcc['Vehicle_Type'].value_counts()"
   ]
  },
  {
   "cell_type": "markdown",
   "id": "110537c8-9d18-4ed6-ba42-b2d4a96c0610",
   "metadata": {},
   "source": [
    "<h1>Insights: Cars experience the highest rate of severe accidents in comparison to other types of vehicles, with vans coming next but having a significant gap over the rest</h1>\n",
    "<hr>"
   ]
  },
  {
   "cell_type": "markdown",
   "id": "368a9406-b04c-4f53-9f67-3af7c0725b2c",
   "metadata": {},
   "source": [
    "<h1>Q8: Is there a connection between vehicle type and injuries</h1>"
   ]
  },
  {
   "cell_type": "code",
   "execution_count": 29,
   "id": "e9cde943-5bfd-4af9-a44e-8961f30f2e65",
   "metadata": {},
   "outputs": [
    {
     "data": {
      "text/plain": [
       "Vehicle_Type\n",
       "Agricultural vehicle                       1947\n",
       "Bus or coach (17 or more pass seats)      25878\n",
       "Car                                      497992\n",
       "Data missing or out of range                  6\n",
       "Goods 7.5 tonnes mgw and over             17307\n",
       "Goods over 3.5t. and under 7.5t            6096\n",
       "Minibus (8 - 16 passenger seats)           1976\n",
       "Motorcycle 125cc and under                15269\n",
       "Motorcycle 50cc and under                  7603\n",
       "Motorcycle over 125cc and up to 500cc      7656\n",
       "Motorcycle over 500cc                     25657\n",
       "Other vehicle                              5637\n",
       "Pedal cycle                                 197\n",
       "Ridden horse                                  4\n",
       "Taxi/Private hire car                     13294\n",
       "Van / Goods 3.5 tonnes mgw or under       34160\n",
       "Name: Number_of_Casualties, dtype: int64"
      ]
     },
     "execution_count": 29,
     "metadata": {},
     "output_type": "execute_result"
    }
   ],
   "source": [
    "UkAcc.groupby('Vehicle_Type')['Number_of_Casualties'].count()"
   ]
  },
  {
   "cell_type": "markdown",
   "id": "76d3097e-21ed-4e37-bce0-37c67dcb4e07",
   "metadata": {},
   "source": [
    "<h1>Insights: Cars, as the most prevalent type of vehicle, also account for the highest total of casualties. This corresponds with their prominent presence on the roads</h1>\n",
    "<hr>"
   ]
  },
  {
   "cell_type": "markdown",
   "id": "4cbeb9b7-f6a4-4cf0-a7b8-30969cd42a01",
   "metadata": {},
   "source": [
    "<h1>Q9: What is the number of accidents that happen under different weather conditions</h1>"
   ]
  },
  {
   "cell_type": "code",
   "execution_count": 31,
   "id": "c04f6d2a-8185-44bc-a1e4-740771fdaee7",
   "metadata": {},
   "outputs": [
    {
     "data": {
      "text/plain": [
       "Weather_Conditions\n",
       "Fine no high winds       535013\n",
       "Raining no high winds     79696\n",
       "Other                     17150\n",
       "Raining + high winds       9615\n",
       "Fine + high winds          8554\n",
       "Snowing no high winds      6238\n",
       "Fog or mist                3528\n",
       "Snowing + high winds        885\n",
       "Name: count, dtype: int64"
      ]
     },
     "execution_count": 31,
     "metadata": {},
     "output_type": "execute_result"
    }
   ],
   "source": [
    "UkAcc['Weather_Conditions'].value_counts()"
   ]
  },
  {
   "cell_type": "markdown",
   "id": "9f49c9e9-4b42-4fc4-b779-4c7048c44f3b",
   "metadata": {},
   "source": [
    "<h1>Insights: Most accidents occur in fine weather with no high winds, not because good weather itself is risky, but because it represents the majority of driving conditions. In contrast, rain and other adverse weather conditions show far fewer accidents, largely due to reduced travel during such times.</h1>\n",
    "<hr>"
   ]
  },
  {
   "cell_type": "markdown",
   "id": "63de580d-fc35-48aa-8ed6-34231c7931e6",
   "metadata": {},
   "source": [
    "<h1>Q10: How are accidents distributed based on the number of vehicles involved</h1>"
   ]
  },
  {
   "cell_type": "code",
   "execution_count": 33,
   "id": "3228c743-0f64-4442-a281-96883ae987cd",
   "metadata": {},
   "outputs": [
    {
     "data": {
      "text/plain": [
       "Number_of_Vehicles\n",
       "2     391995\n",
       "1     200787\n",
       "3      52806\n",
       "4      11300\n",
       "5       2464\n",
       "6        758\n",
       "7        296\n",
       "8        147\n",
       "9         57\n",
       "10        27\n",
       "11        12\n",
       "14         9\n",
       "12         7\n",
       "13         6\n",
       "16         4\n",
       "28         1\n",
       "15         1\n",
       "32         1\n",
       "19         1\n",
       "Name: count, dtype: int64"
      ]
     },
     "execution_count": 33,
     "metadata": {},
     "output_type": "execute_result"
    }
   ],
   "source": [
    "UkAcc['Number_of_Vehicles'].value_counts()"
   ]
  },
  {
   "cell_type": "markdown",
   "id": "e8120eef-e2dc-446d-b15d-9965f362da71",
   "metadata": {},
   "source": [
    "<h1>Insight: Around 85–90% of accidents involve either a single vehicle or two vehicles, while multi-vehicle accidents are relatively uncommon. This indicates that most crashes are straightforward single-vehicle incidents or two-party collisions.</h1><hr>"
   ]
  },
  {
   "cell_type": "markdown",
   "id": "a4f1ea63-485e-4b96-8b2d-0d138136422c",
   "metadata": {},
   "source": [
    "<h1>Q11: Are fatal accidents more common in rural areas?</h1>"
   ]
  },
  {
   "cell_type": "code",
   "execution_count": 35,
   "id": "5d6f82af-9b91-4be6-a2fa-9f8f21478a4f",
   "metadata": {},
   "outputs": [
    {
     "data": {
      "text/plain": [
       "5601"
      ]
     },
     "execution_count": 35,
     "metadata": {},
     "output_type": "execute_result"
    }
   ],
   "source": [
    "rural_fatal = UkAcc[(UkAcc['Urban_or_Rural_Area'] == 'Rural') & (UkAcc['Accident_Severity'] == 'Fatal')]\n",
    "len(rural_fatal)"
   ]
  },
  {
   "cell_type": "code",
   "execution_count": 38,
   "id": "972c6e09-d4b6-402b-bcfe-b0e80047a263",
   "metadata": {},
   "outputs": [
    {
     "data": {
      "text/plain": [
       "3060"
      ]
     },
     "execution_count": 38,
     "metadata": {},
     "output_type": "execute_result"
    }
   ],
   "source": [
    "urban_fatal = UkAcc[(UkAcc['Urban_or_Rural_Area'] == 'Urban') & (UkAcc['Accident_Severity'] == 'Fatal')]\n",
    "len(urban_fatal)"
   ]
  },
  {
   "cell_type": "markdown",
   "id": "907f1b99-b7ed-4fee-b9b7-128a91919b8a",
   "metadata": {},
   "source": [
    "<h1>Insights: Yes, based on its output. Accidents are more common in Rural areas than Urban.</h1><hr>"
   ]
  },
  {
   "cell_type": "markdown",
   "id": "464b4b01-2d2f-4e03-8457-2d8f2e83a446",
   "metadata": {},
   "source": [
    "<h1>Q12: How many accidents occur on roundabouts vs other road types?</h1>"
   ]
  },
  {
   "cell_type": "code",
   "execution_count": 40,
   "id": "a904557d-b91f-4fe1-ad09-1a7b90188104",
   "metadata": {},
   "outputs": [
    {
     "data": {
      "text/plain": [
       "Road_Type\n",
       "False    616687\n",
       "True      43992\n",
       "dtype: int64"
      ]
     },
     "execution_count": 40,
     "metadata": {},
     "output_type": "execute_result"
    }
   ],
   "source": [
    "UkAcc.groupby(UkAcc['Road_Type'] == 'Roundabout').size()"
   ]
  },
  {
   "cell_type": "markdown",
   "id": "584f85f1-eaeb-4d01-bf4a-c3200ad7e067",
   "metadata": {},
   "source": [
    "<h1>Insights: Roundabouts record about 44,000 accidents compared to 616,000 on other road types. However, this difference mainly reflects their limited presence in the road network rather than poor safety. In fact, accidents at roundabouts generally have lower severity rates.</h1><hr>"
   ]
  },
  {
   "cell_type": "markdown",
   "id": "fb656ba2-3343-4ed0-a6fc-75c86c461dd6",
   "metadata": {},
   "source": [
    "<h1>Q13: Which weather condition has the lowest accident count?</h1>"
   ]
  },
  {
   "cell_type": "code",
   "execution_count": 42,
   "id": "8855bf8f-4175-4816-a461-c0644d275ef6",
   "metadata": {},
   "outputs": [
    {
     "data": {
      "text/plain": [
       "Weather_Conditions\n",
       "Snowing + high winds    885\n",
       "Name: count, dtype: int64"
      ]
     },
     "execution_count": 42,
     "metadata": {},
     "output_type": "execute_result"
    }
   ],
   "source": [
    "UkAcc['Weather_Conditions'].value_counts().tail(1)"
   ]
  },
  {
   "cell_type": "markdown",
   "id": "37c6d9f3-928c-4521-b332-955015ae74e4",
   "metadata": {},
   "source": [
    "<h1>Insights: The fewest accidents occur during fog, mist, or snow combined with high winds, suggesting that drivers tend to avoid travel in the most hazardous weather conditions.</h1><hr>"
   ]
  },
  {
   "cell_type": "markdown",
   "id": "2b87e977-465c-4ba1-b569-900cda45fb48",
   "metadata": {},
   "source": [
    "<h1>Q14: Are there specific districts with unusual accident types or frequencies?</h1>"
   ]
  },
  {
   "cell_type": "code",
   "execution_count": 44,
   "id": "dff0a105-bb57-4c24-8fdb-3125a5360820",
   "metadata": {},
   "outputs": [
    {
     "data": {
      "text/html": [
       "<div>\n",
       "<style scoped>\n",
       "    .dataframe tbody tr th:only-of-type {\n",
       "        vertical-align: middle;\n",
       "    }\n",
       "\n",
       "    .dataframe tbody tr th {\n",
       "        vertical-align: top;\n",
       "    }\n",
       "\n",
       "    .dataframe thead th {\n",
       "        text-align: right;\n",
       "    }\n",
       "</style>\n",
       "<table border=\"1\" class=\"dataframe\">\n",
       "  <thead>\n",
       "    <tr style=\"text-align: right;\">\n",
       "      <th>Accident_Severity</th>\n",
       "      <th>Fatal</th>\n",
       "      <th>Serious</th>\n",
       "      <th>Slight</th>\n",
       "    </tr>\n",
       "    <tr>\n",
       "      <th>District Area</th>\n",
       "      <th></th>\n",
       "      <th></th>\n",
       "      <th></th>\n",
       "    </tr>\n",
       "  </thead>\n",
       "  <tbody>\n",
       "    <tr>\n",
       "      <th>Aberdeen City</th>\n",
       "      <td>12</td>\n",
       "      <td>239</td>\n",
       "      <td>1072</td>\n",
       "    </tr>\n",
       "    <tr>\n",
       "      <th>Aberdeenshire</th>\n",
       "      <td>66</td>\n",
       "      <td>463</td>\n",
       "      <td>1401</td>\n",
       "    </tr>\n",
       "    <tr>\n",
       "      <th>Adur</th>\n",
       "      <td>8</td>\n",
       "      <td>101</td>\n",
       "      <td>510</td>\n",
       "    </tr>\n",
       "    <tr>\n",
       "      <th>Allerdale</th>\n",
       "      <td>24</td>\n",
       "      <td>143</td>\n",
       "      <td>961</td>\n",
       "    </tr>\n",
       "    <tr>\n",
       "      <th>Alnwick</th>\n",
       "      <td>6</td>\n",
       "      <td>33</td>\n",
       "      <td>193</td>\n",
       "    </tr>\n",
       "    <tr>\n",
       "      <th>...</th>\n",
       "      <td>...</td>\n",
       "      <td>...</td>\n",
       "      <td>...</td>\n",
       "    </tr>\n",
       "    <tr>\n",
       "      <th>Wychavon</th>\n",
       "      <td>30</td>\n",
       "      <td>193</td>\n",
       "      <td>1138</td>\n",
       "    </tr>\n",
       "    <tr>\n",
       "      <th>Wycombe</th>\n",
       "      <td>20</td>\n",
       "      <td>216</td>\n",
       "      <td>1493</td>\n",
       "    </tr>\n",
       "    <tr>\n",
       "      <th>Wyre</th>\n",
       "      <td>15</td>\n",
       "      <td>186</td>\n",
       "      <td>1037</td>\n",
       "    </tr>\n",
       "    <tr>\n",
       "      <th>Wyre Forest</th>\n",
       "      <td>22</td>\n",
       "      <td>132</td>\n",
       "      <td>815</td>\n",
       "    </tr>\n",
       "    <tr>\n",
       "      <th>York</th>\n",
       "      <td>21</td>\n",
       "      <td>255</td>\n",
       "      <td>1621</td>\n",
       "    </tr>\n",
       "  </tbody>\n",
       "</table>\n",
       "<p>422 rows × 3 columns</p>\n",
       "</div>"
      ],
      "text/plain": [
       "Accident_Severity  Fatal  Serious  Slight\n",
       "District Area                            \n",
       "Aberdeen City         12      239    1072\n",
       "Aberdeenshire         66      463    1401\n",
       "Adur                   8      101     510\n",
       "Allerdale             24      143     961\n",
       "Alnwick                6       33     193\n",
       "...                  ...      ...     ...\n",
       "Wychavon              30      193    1138\n",
       "Wycombe               20      216    1493\n",
       "Wyre                  15      186    1037\n",
       "Wyre Forest           22      132     815\n",
       "York                  21      255    1621\n",
       "\n",
       "[422 rows x 3 columns]"
      ]
     },
     "execution_count": 44,
     "metadata": {},
     "output_type": "execute_result"
    }
   ],
   "source": [
    "UkAcc.groupby('District Area')['Accident_Severity'].value_counts().unstack().fillna(0).astype(int)"
   ]
  },
  {
   "cell_type": "markdown",
   "id": "c9129bec-4d7c-4a78-a9a3-8e36c39626df",
   "metadata": {},
   "source": [
    "<h1>Insights: Aberdeenshire +records a higher number of fatal accidents compared to other districts, likely reflecting factors such as rural road conditions, higher speeds, and limited access to emergency services.</h1><hr>"
   ]
  },
  {
   "cell_type": "markdown",
   "id": "fc834788-659d-42cd-8a20-eaf9fdb428ad",
   "metadata": {},
   "source": [
    "<h1>Q15: What is the average number of casualties per vehicle type?</h1>"
   ]
  },
  {
   "cell_type": "code",
   "execution_count": 56,
   "id": "d87da307-c441-47fe-9d11-999df02b43c5",
   "metadata": {},
   "outputs": [
    {
     "data": {
      "text/plain": [
       "Vehicle_Type\n",
       "Data missing or out of range             1.500000\n",
       "Pedal cycle                              1.370558\n",
       "Taxi/Private hire car                    1.368663\n",
       "Goods over 3.5t. and under 7.5t          1.362861\n",
       "Motorcycle over 500cc                    1.359434\n",
       "Car                                      1.358841\n",
       "Van / Goods 3.5 tonnes mgw or under      1.354537\n",
       "Goods 7.5 tonnes mgw and over            1.351881\n",
       "Bus or coach (17 or more pass seats)     1.349216\n",
       "Minibus (8 - 16 passenger seats)         1.345648\n",
       "Motorcycle over 125cc and up to 500cc    1.343521\n",
       "Agricultural vehicle                     1.342065\n",
       "Other vehicle                            1.340075\n",
       "Motorcycle 50cc and under                1.337235\n",
       "Motorcycle 125cc and under               1.332635\n",
       "Ridden horse                             1.250000\n",
       "Name: Number_of_Casualties, dtype: float64"
      ]
     },
     "execution_count": 56,
     "metadata": {},
     "output_type": "execute_result"
    }
   ],
   "source": [
    "UkAcc.groupby('Vehicle_Type')['Number_of_Casualties'].mean().sort_values(ascending=False)"
   ]
  },
  {
   "cell_type": "markdown",
   "id": "c8720963-9fc3-4dde-8a9b-12398b9dda06",
   "metadata": {},
   "source": [
    "<h1>Insights: Pedal cycles and taxis/private hire cars show some of the highest average accident rates, reflecting either the greater vulnerability of these vehicles or the higher passenger exposure they carry.</h1><hr>"
   ]
  },
  {
   "cell_type": "markdown",
   "id": "03dd2a9a-37d4-48c4-bceb-808cc4928d74",
   "metadata": {},
   "source": [
    "<h1>Q16: How does the number of casualties compare between different road surface conditions for car accidents only?</h1>"
   ]
  },
  {
   "cell_type": "code",
   "execution_count": 58,
   "id": "1a09359b-83a1-4835-8f6d-32d6287374cc",
   "metadata": {},
   "outputs": [
    {
     "data": {
      "text/plain": [
       "Road_Surface_Conditions\n",
       "Dry                     1.336710\n",
       "Flood over 3cm. deep    1.486486\n",
       "Frost or ice            1.350156\n",
       "Snow                    1.363150\n",
       "Wet or damp             1.411987\n",
       "Name: Number_of_Casualties, dtype: float64"
      ]
     },
     "execution_count": 58,
     "metadata": {},
     "output_type": "execute_result"
    }
   ],
   "source": [
    "UkAcc[UkAcc['Vehicle_Type'] == 'Car'].groupby('Road_Surface_Conditions')['Number_of_Casualties'].mean()"
   ]
  },
  {
   "cell_type": "markdown",
   "id": "3aee2fbe-2819-430b-bea7-99bade48c2d6",
   "metadata": {},
   "source": [
    "<h1>Insights: Car accidents on dry roads serve as the baseline for casualty rates, whereas icy or flooded roads show significantly higher rates (1.35+). This highlights how adverse surface conditions amplify accident severity, even when controlling for vehicle type.</h1><hr>"
   ]
  },
  {
   "cell_type": "markdown",
   "id": "c38df0a8-4d06-4382-a2cf-c8e0d974e1ea",
   "metadata": {},
   "source": [
    "<h1>Q17: What is the total number of casualties by district area?</h1>"
   ]
  },
  {
   "cell_type": "code",
   "execution_count": 60,
   "id": "7f7a926b-a14a-42ab-8475-a2282111a36d",
   "metadata": {},
   "outputs": [
    {
     "data": {
      "text/plain": [
       "District Area\n",
       "Aberdeen City    1508\n",
       "Aberdeenshire    2529\n",
       "Adur              817\n",
       "Allerdale        1663\n",
       "Alnwick           351\n",
       "                 ... \n",
       "Wychavon         1943\n",
       "Wycombe          2442\n",
       "Wyre             1706\n",
       "Wyre Forest      1340\n",
       "York             2453\n",
       "Name: Number_of_Casualties, Length: 422, dtype: int64"
      ]
     },
     "execution_count": 60,
     "metadata": {},
     "output_type": "execute_result"
    }
   ],
   "source": [
    "UkAcc.groupby('District Area')['Number_of_Casualties'].sum()"
   ]
  },
  {
   "cell_type": "markdown",
   "id": "bcf4b120-9656-4940-ba7b-cfbdf69199a2",
   "metadata": {},
   "source": [
    "<h1>Insights: Major metropolitan districts record the highest total casualties, reflecting their higher accident frequency. These casualty counts highlight where the overall road safety burden is greatest and where resources for emergency services and safety interventions may be most needed.</h1><hr>"
   ]
  },
  {
   "cell_type": "markdown",
   "id": "f10ce609-8481-43d2-b40e-5ef2b6cc2bb6",
   "metadata": {},
   "source": [
    "<h1>Q18: Which district has the highest average casualties per accident?</h1>"
   ]
  },
  {
   "cell_type": "code",
   "execution_count": 64,
   "id": "531df6c3-69b3-4af3-97ee-3644f6a68084",
   "metadata": {},
   "outputs": [
    {
     "data": {
      "text/plain": [
       "'Blaeu Gwent'"
      ]
     },
     "execution_count": 64,
     "metadata": {},
     "output_type": "execute_result"
    }
   ],
   "source": [
    "UkAcc.groupby('District Area')['Number_of_Casualties'].mean().idxmax()"
   ]
  },
  {
   "cell_type": "markdown",
   "id": "19d7968d-4631-417e-bb5a-a59607dae248",
   "metadata": {},
   "source": [
    "<h1>Insights: This identifies the district with the most severe accidents on average.</h1><hr>"
   ]
  },
  {
   "cell_type": "markdown",
   "id": "d628579a-6499-4ba8-95fd-193a299d5c0e",
   "metadata": {},
   "source": [
    "<h1>Q19: Which district area has the highest number of accidents?</h1>"
   ]
  },
  {
   "cell_type": "code",
   "execution_count": 66,
   "id": "6379eb1d-21a9-4504-877a-d8aa01c83261",
   "metadata": {},
   "outputs": [
    {
     "data": {
      "text/plain": [
       "'Birmingham'"
      ]
     },
     "execution_count": 66,
     "metadata": {},
     "output_type": "execute_result"
    }
   ],
   "source": [
    "UkAcc['District Area'].value_counts().idxmax()"
   ]
  },
  {
   "cell_type": "markdown",
   "id": "308d1f0d-58a7-43e4-823d-883afd533985",
   "metadata": {},
   "source": [
    "<h1>Insights: This identifies the district with the most accidents which is Birmingham.</h1><hr>"
   ]
  },
  {
   "cell_type": "markdown",
   "id": "8f721f18-c05c-4ae0-9133-150a20198f80",
   "metadata": {},
   "source": [
    "<h1>Q20: How does accident severity vary across different weather conditions?</h1>"
   ]
  },
  {
   "cell_type": "code",
   "execution_count": 67,
   "id": "ac2dcda6-ba5c-49be-b144-91b01a585f8d",
   "metadata": {},
   "outputs": [
    {
     "data": {
      "text/html": [
       "<div>\n",
       "<style scoped>\n",
       "    .dataframe tbody tr th:only-of-type {\n",
       "        vertical-align: middle;\n",
       "    }\n",
       "\n",
       "    .dataframe tbody tr th {\n",
       "        vertical-align: top;\n",
       "    }\n",
       "\n",
       "    .dataframe thead th {\n",
       "        text-align: right;\n",
       "    }\n",
       "</style>\n",
       "<table border=\"1\" class=\"dataframe\">\n",
       "  <thead>\n",
       "    <tr style=\"text-align: right;\">\n",
       "      <th>Accident_Severity</th>\n",
       "      <th>Fatal</th>\n",
       "      <th>Serious</th>\n",
       "      <th>Slight</th>\n",
       "    </tr>\n",
       "    <tr>\n",
       "      <th>Weather_Conditions</th>\n",
       "      <th></th>\n",
       "      <th></th>\n",
       "      <th></th>\n",
       "    </tr>\n",
       "  </thead>\n",
       "  <tbody>\n",
       "    <tr>\n",
       "      <th>Fine + high winds</th>\n",
       "      <td>175</td>\n",
       "      <td>1245</td>\n",
       "      <td>7134</td>\n",
       "    </tr>\n",
       "    <tr>\n",
       "      <th>Fine no high winds</th>\n",
       "      <td>7207</td>\n",
       "      <td>73285</td>\n",
       "      <td>454521</td>\n",
       "    </tr>\n",
       "    <tr>\n",
       "      <th>Fog or mist</th>\n",
       "      <td>82</td>\n",
       "      <td>483</td>\n",
       "      <td>2963</td>\n",
       "    </tr>\n",
       "    <tr>\n",
       "      <th>Other</th>\n",
       "      <td>165</td>\n",
       "      <td>1801</td>\n",
       "      <td>15184</td>\n",
       "    </tr>\n",
       "    <tr>\n",
       "      <th>Raining + high winds</th>\n",
       "      <td>145</td>\n",
       "      <td>1261</td>\n",
       "      <td>8209</td>\n",
       "    </tr>\n",
       "    <tr>\n",
       "      <th>Raining no high winds</th>\n",
       "      <td>848</td>\n",
       "      <td>9468</td>\n",
       "      <td>69380</td>\n",
       "    </tr>\n",
       "    <tr>\n",
       "      <th>Snowing + high winds</th>\n",
       "      <td>3</td>\n",
       "      <td>109</td>\n",
       "      <td>773</td>\n",
       "    </tr>\n",
       "    <tr>\n",
       "      <th>Snowing no high winds</th>\n",
       "      <td>36</td>\n",
       "      <td>565</td>\n",
       "      <td>5637</td>\n",
       "    </tr>\n",
       "  </tbody>\n",
       "</table>\n",
       "</div>"
      ],
      "text/plain": [
       "Accident_Severity      Fatal  Serious  Slight\n",
       "Weather_Conditions                           \n",
       "Fine + high winds        175     1245    7134\n",
       "Fine no high winds      7207    73285  454521\n",
       "Fog or mist               82      483    2963\n",
       "Other                    165     1801   15184\n",
       "Raining + high winds     145     1261    8209\n",
       "Raining no high winds    848     9468   69380\n",
       "Snowing + high winds       3      109     773\n",
       "Snowing no high winds     36      565    5637"
      ]
     },
     "execution_count": 67,
     "metadata": {},
     "output_type": "execute_result"
    }
   ],
   "source": [
    "UkAcc.groupby(['Weather_Conditions','Accident_Severity']).size().unstack()"
   ]
  },
  {
   "cell_type": "markdown",
   "id": "76bcee5a-e6b4-47de-be36-c2a7da579aaa",
   "metadata": {},
   "source": [
    "<h1>Q20 Insight1: In fine weather with no high winds, there are 441,739 slight, 72,046 serious, and 7,100 fatal accidents. This indicates that most accidents occur in good weather, not because conditions are dangerous, but because traffic volumes are higher.</h1><hr>\n",
    "<h1>Q20 Insight2: Accidents are most frequent during fine weather with no high winds (over 534,000 total), showing that good conditions lead to more travel and hence more exposure, not necessarily higher risk.</h1><hr>\n",
    "<h1>Q20 Insight3: Snowing with high winds has the lowest accident counts (only 885 total), indicating that drivers largely avoid traveling in extremely hazardous conditions.</h1><hr>\n",
    "<h1>Q20 Insight4: Fatal accidents are highest in fine no high winds (7,207), but as a proportion of total accidents, fatalities are more significant in fog or mist and snowing with high winds, where limited visibility and road hazards increase severity.</h1><hr>\n",
    "<h1>Q20 Insight5: Rainy conditions without high winds account for nearly 80,000 accidents, much higher than rain + high winds (around 9,600), suggesting that rainfall alone already contributes to a notable increase in accidents, even without wind.</h1><hr>\n",
    "<h1>Q20 Insight6: “Other” weather conditions (unclassified) show a surprisingly high number of accidents (over 17,000), meaning atypical conditions may also pose safety challenges, or that reporting inconsistencies affect accident recording.</h1><hr>"
   ]
  },
  {
   "cell_type": "code",
   "execution_count": null,
   "id": "6a62770d-8ed2-4d3d-90ae-a3b73a8af090",
   "metadata": {},
   "outputs": [],
   "source": []
  }
 ],
 "metadata": {
  "kernelspec": {
   "display_name": "Python 3 (ipykernel)",
   "language": "python",
   "name": "python3"
  },
  "language_info": {
   "codemirror_mode": {
    "name": "ipython",
    "version": 3
   },
   "file_extension": ".py",
   "mimetype": "text/x-python",
   "name": "python",
   "nbconvert_exporter": "python",
   "pygments_lexer": "ipython3",
   "version": "3.13.6"
  }
 },
 "nbformat": 4,
 "nbformat_minor": 5
}
